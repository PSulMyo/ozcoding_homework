{
 "cells": [
  {
   "cell_type": "markdown",
   "metadata": {},
   "source": [
    "안녕하세요. 수강생 여러분~! Chapter33 ~ 41 수업은 잘 들으셨나요?\n",
    "\n",
    "Chapter33 ~ 41의 수업 내용을 바탕으로 아래 문제를 풀어주시면 됩니다.\n",
    "\n",
    "\n",
    "<br>\n",
    "\n",
    "\n",
    "[**답변 입력 방법**]\n",
    "\n",
    "문제 아래에 있는 코드 입력창에 정답코드를 작성하신 후  __▷ 버튼을 클릭해 코드를 실행__ 해보세요<br>"
   ]
  },
  {
   "cell_type": "markdown",
   "metadata": {},
   "source": [
    "---"
   ]
  },
  {
   "cell_type": "markdown",
   "metadata": {},
   "source": [
    "[문제 1]\n",
    "\n",
    "사용자로부터 두 개의 숫자를 입력받아 나눗셈을 수행하는 프로그램을 작성하세요. \n",
    "\n",
    "[예외처리]\n",
    "- 입력 값이 숫자가 아닐 때 발생할 수 있는 ValueError\n",
    "- 나누는 수가 0일 때 발생할 수 있는 ZeroDivisionError\n",
    "- 위 2가지 예외처리 후 사용자에게 이해하기 쉬운 메시지 작성 후 출력되도록 코드를 작성"
   ]
  },
  {
   "cell_type": "code",
   "execution_count": null,
   "metadata": {},
   "outputs": [],
   "source": [
    "def safe_division():\n",
    "    while True:\n",
    "        try:\n",
    "            num1_str = input(\"첫 번째 숫자를 입력해주세요: \")\n",
    "            num1 = float(num1_str)\n",
    "\n",
    "            num2_str = input(\"두 번째 숫자를 입력해주세요: \")\n",
    "            num2 = float(num2_str)\n",
    "\n",
    "            result = num1 / num2\n",
    "\n",
    "            print(f\"✅ 나눗셈 결과: {num1} / {num2} = {result}\")\n",
    "            break\n",
    "\n",
    "        except ValueError:\n",
    "            print(\"❌ 오류: 유효한 숫자를 입력해주세요! 문자는 입력할 수 없습니다. 다시 시도해주세요.\")\n",
    "        except ZeroDivisionError:\n",
    "            print(\"⚠️ 오류: 0으로는 나눌 수 없습니다! 나누는 수를 0이 아닌 다른 숫자로 다시 입력해주세요.\")\n",
    "        except Exception as e:\n",
    "            print(f\"❓ 예상치 못한 오류가 발생했습니다: {e}. 프로그램을 다시 시작해주세요.\")\n",
    "\n",
    "safe_division()"
   ]
  },
  {
   "cell_type": "markdown",
   "metadata": {},
   "source": [
    "---"
   ]
  },
  {
   "cell_type": "markdown",
   "metadata": {},
   "source": [
    "[문제 2]\n",
    "\n",
    "파일을 읽어서 내용을 출력하는 프로그램을 작성하세요. \n",
    "\n",
    "- 파일이 존재하지 않을 때 발생하는 FileNotFoundError를 처리\n",
    "- 파일이 존재하지 않을 경우 \"파일을 찾을 수 없습니다.\"라는 메시지를 출력"
   ]
  },
  {
   "cell_type": "code",
   "execution_count": null,
   "metadata": {},
   "outputs": [],
   "source": [
    "import os\n",
    "\n",
    "def read_and_print_file(filename: str):\n",
    "    try:\n",
    "        with open(filename, 'r', encoding='utf-8') as file:\n",
    "            content = file.read()\n",
    "            print(content)\n",
    "        except FileNotFoundError:\n",
    "            print(\"파일을 찾을 수 없습니다.\")\n",
    "        except Exception as e:\n",
    "            print(f\"❓ 파일 처리 중 예상치 못한 오류가 발생했습니다: {e}\")"
   ]
  },
  {
   "cell_type": "markdown",
   "metadata": {},
   "source": [
    "---"
   ]
  },
  {
   "cell_type": "markdown",
   "metadata": {},
   "source": [
    "[문제 3]\n",
    "\n",
    "사용자로부터 여러 개의 숫자를 입력받아 리스트에 저장한 후, 사용자가 'done'이라고 입력할 때까지 계속 입력받으세요. \n",
    "\n",
    "- 입력 중 숫자가 아닌 값이 입력되면 ValueError를 처리\n",
    "- 숫자 외 값이 입력된 경우 어떤 값이 잘못 입력되었는지 사용자에게 알려주는 문구 출력<br>\n",
    "  (예: f\"잘못된 값: {변수}. 숫자를 입력해주세요.\")\n",
    "\n"
   ]
  },
  {
   "cell_type": "code",
   "execution_count": null,
   "metadata": {},
   "outputs": [],
   "source": [
    "def get_numbers_input():\n",
    "    numbers_list = []\n",
    "    print(\"숫자를 입력해주세요. 종료하려면 'done'을 입력하세요.\")\n",
    "\n",
    "    while True:\n",
    "        user_input = input(\"> \")\n",
    "\n",
    "        if user_input.lower() == 'done':\n",
    "            break\n",
    "\n",
    "        try:\n",
    "            number = float(user_input)\n",
    "            numbers_list.append(number)\n",
    "        except ValueError:\n",
    "            print(f\"⚠️ 잘못된 값: '{user_input}'. 숫자를 입력해주세요.\")\n",
    "        \n",
    "    if numbers_list:\n",
    "        print(numbers_list)\n",
    "        print(f\"총 {len(numbers_list)}개의 숫자가 입력되었습니다.\")\n",
    "    else:\n",
    "        print(\"입력된 숫자가 없습니다.\")\n",
    "\n",
    "get_numbers_input()"
   ]
  },
  {
   "cell_type": "markdown",
   "metadata": {},
   "source": [
    "---"
   ]
  },
  {
   "cell_type": "markdown",
   "metadata": {},
   "source": [
    "[문제 4]\n",
    "\n",
    "사용자 정의 예외 NegativeNumberError를 생성하고, 사용자로부터 숫자를 입력받아 음수일 경우 NegativeNumberError를 발생시키는 프로그램을 작성하세요. \n",
    "\n",
    "- 예외 처리 구문을 사용하여 음수 입력 시 \"양수를 입력해주세요.\"라는 메시지를 출력"
   ]
  },
  {
   "cell_type": "code",
   "execution_count": null,
   "metadata": {},
   "outputs": [],
   "source": [
    "class NegativeNumberError(Exception):\n",
    "    def __init__(self, message=\"음수는 허용되지 않습니다.\"):\n",
    "        super().__init__(message)\n",
    "\n",
    "\n",
    "def get_positive_number():\n",
    "    while True:\n",
    "        try:\n",
    "            user_input = input(\"양의 숫자를 입력해주세요: \")\n",
    "            number = float(user_input)\n",
    "\n",
    "            if number < 0:\n",
    "                raise NegativeNumberError()\n",
    "\n",
    "            print(f\"✅ 입력된 양수: {number}\")\n",
    "            return number\n",
    "\n",
    "        except ValueError:\n",
    "            print(\"⚠️ 잘못된 형식입니다. 유효한 숫자를 입력해주세요.\")\n",
    "        except NegativeNumberError:\n",
    "            print(\"❌ 양수를 입력해주세요.\")\n",
    "        except Exception as e:\n",
    "            print(f\"❓ 예상치 못한 오류가 발생했습니다: {e}. 프로그램을 다시 시작해주세요.\")\n",
    "\n",
    "print(\"--- 양수 입력 프로그램 시작 ---\")\n",
    "received_positive_num = get_positive_number()\n",
    "print(f\"프로그램이 최종적으로 받은 유효한 양수: {received_positive_num}\")\n",
    "print(\"--- 프로그램 종료 ---\")"
   ]
  },
  {
   "cell_type": "markdown",
   "metadata": {},
   "source": [
    "---"
   ]
  },
  {
   "cell_type": "markdown",
   "metadata": {},
   "source": [
    "[문제 5]\n",
    "\n",
    "datetime 모듈을 사용하여 현재 날짜와 시간을 출력하는 프로그램을 작성하세요. \n",
    "\n",
    "또한, 사용자로부터 태어난 년도를 입력받아 현재 나이를 계산하여 출력하세요."
   ]
  },
  {
   "cell_type": "code",
   "execution_count": null,
   "metadata": {},
   "outputs": [],
   "source": [
    "import datetime\n",
    "\n",
    "def calculate_age_and_print_datetime():\n",
    "    current_datetime = datetime.datetime.now()\n",
    "\n",
    "    print(f\"현재 날짜와 시간: {current_datetime}\")\n",
    "    print(f\"현재 연도: {current_datetime.year}년\")\n",
    "\n",
    "    while True:\n",
    "        try:\n",
    "            birth_year_str = input(\"태어난 연도를 4자리 숫자로 입력해주세요 (예: 2000): \")\n",
    "            birth_year = int(birth_year_str)\n",
    "\n",
    "            if birth_year > current_datetime.year or birth_year < 1900:\n",
    "                print(\"❌ 유효하지 않은 연도입니다. 현재 연도보다 이전이고 1900년 이후의 연도를 입력해주세요.\")\n",
    "                continue\n",
    "\n",
    "            break\n",
    "        except ValueError:\n",
    "            print(\"⚠️ 숫자를 정확히 입력해주세요. (예: 1990)\")\n",
    "\n",
    "    age = current_datetime.year - birth_year\n",
    "\n",
    "    print(f\"당신은 현재 대략 {age}살입니다.\")\n",
    "\n",
    "calculate_age_and_print_datetime()"
   ]
  },
  {
   "cell_type": "markdown",
   "metadata": {},
   "source": [
    "---"
   ]
  },
  {
   "cell_type": "markdown",
   "metadata": {},
   "source": [
    "[문제 6]\n",
    "\n",
    "requests 모듈을 사용하여, 웹 페이지의 HTML을 가져오는 간단한 웹 스크레이퍼를 작성하세요.\n",
    "\n",
    "'https://kream.co.kr/'에서<br> \n",
    "데이터를 가져와서 상태 코드와 HTML의 첫 100자를 출력하세요.<br>\n",
    "(실습 전 requests 모듈을 설치해야 함)"
   ]
  },
  {
   "cell_type": "code",
   "execution_count": null,
   "metadata": {},
   "outputs": [],
   "source": [
    "import requests\n",
    "\n",
    "def simple_web_scraper():\n",
    "    print(\"간단한 웹 스크레이퍼를 시작합니다.\")\n",
    "    print(\"웹 페이지의 HTML 내용을 가져와 출력합니다.\")\n",
    "    print(\"URL은 'http://' 또는 'https://'로 시작해야 합니다.\")\n",
    "\n",
    "    while True:\n",
    "        url = input(\"HTML을 가져올 URL을 입력하세요 (종료하려면 'quit' 입력): \")\n",
    "\n",
    "        if url.lower() == 'quit':\n",
    "            print(\"웹 스크레이퍼를 종료합니다.\")\n",
    "            break\n",
    "\n",
    "        if not url.startswith('http://') and not url.startswith('https://'):\n",
    "            print(\"❌ 유효하지 않은 URL 형식입니다. 'http://' 또는 'https://'로 시작해야 합니다.\")\n",
    "            continue\n",
    "\n",
    "        try:\n",
    "            response = requests.get(url, timeout=10)\n",
    "            response.raise_for_status()\n",
    "\n",
    "            print(f\"\\n--- URL: {url} 의 HTML 내용 (일부) ---\")\n",
    "            print(response.text[:1000])\n",
    "            print(\"------------------------------------------\")\n",
    "            break\n",
    "\n",
    "        except requests.exceptions.MissingSchema:\n",
    "            print(f\"❌ 오류: 유효한 스키마가 없는 URL입니다. 'http://' 또는 'https://'를 포함해주세요. (예: https://www.google.com)\")\n",
    "        except requests.exceptions.ConnectionError:\n",
    "            print(f\"❌ 오류: {url}에 연결할 수 없습니다. 인터넷 연결을 확인하거나 URL이 정확한지 확인해주세요.\")\n",
    "        except requests.exceptions.Timeout:\n",
    "            print(f\"❌ 오류: {url}에 접속하는 데 시간이 초과되었습니다. 다시 시도하거나 다른 URL을 입력해주세요.\")\n",
    "        except requests.exceptions.RequestException as e:\n",
    "            print(f\"❌ 오류: 요청 중 알 수 없는 문제가 발생했습니다: {e}\")\n",
    "        except Exception as e:\n",
    "            print(f\"❓ 예상치 못한 오류가 발생했습니다: {e}\")\n",
    "\n",
    "simple_web_scraper()"
   ]
  },
  {
   "cell_type": "markdown",
   "metadata": {},
   "source": [
    "---"
   ]
  },
  {
   "cell_type": "markdown",
   "metadata": {},
   "source": [
    "[문제 7]\n",
    "\n",
    "함수 실행 시간을 측정하는 데코레이터 timer_decorator를 작성하세요. \n",
    "\n",
    "임의의 함수가 실행되는 시간을 측정하여 \"함수 실행 시간: x.xx초\" 형태로 출력하세요."
   ]
  },
  {
   "cell_type": "code",
   "execution_count": null,
   "metadata": {},
   "outputs": [],
   "source": [
    "import time\n",
    "\n",
    "def timer_decorator(func):\n",
    "    def wrapper(*args, **kwargs):\n",
    "        start_time = time.time()\n",
    "        result = func(*args, **kwargs)\n",
    "        end_time = time.time()\n",
    "        execution_time = end_time - start_time\n",
    "        print(f\"함수 실행 시간: {execution_time:.2f}초\")\n",
    "        return result\n",
    "    return wrapper\n",
    "\n",
    "@timer_decorator\n",
    "def example_function(n):\n",
    "    sum_val = 0\n",
    "    for i in range(n):\n",
    "        sum_val += i\n",
    "    return sum_val\n",
    "\n",
    "@timer_decorator\n",
    "def another_example_function(a, b, delay=0.5):\n",
    "    time.sleep(delay)\n",
    "    return a * b\n",
    "\n",
    "print(\"--- 첫 번째 함수 실행 ---\")\n",
    "result1 = example_function(1000000)\n",
    "print(f\"결과: {result1}\")\n",
    "\n",
    "print(\"\\n--- 두 번째 함수 실행 ---\")\n",
    "result2 = another_example_function(10, 20, delay=1.0)\n",
    "print(f\"결과: {result2}\")\n",
    "\n",
    "print(\"\\n--- 세 번째 함수 실행 (짧게) ---\")\n",
    "result3 = another_example_function(5, 5)\n",
    "print(f\"결과: {result3}\")"
   ]
  },
  {
   "cell_type": "markdown",
   "metadata": {},
   "source": [
    "---"
   ]
  },
  {
   "cell_type": "markdown",
   "metadata": {},
   "source": [
    "[문제 8]\n",
    "\n",
    "여러분이 자주 사용하는 수학적 연산<br>\n",
    "(예: 삼각형 넓이, 원의 넓이, 직육면체의 넓이)을 수행하는 함수들을 포함하는 mymath.py라는 이름의 모듈을 만드세요. \n",
    "\n",
    "이 모듈을 사용하여 작성된 함수들을 실제로 임포트하고 사용하는 간단한 프로그램을 작성하세요."
   ]
  },
  {
   "cell_type": "code",
   "execution_count": null,
   "metadata": {},
   "outputs": [],
   "source": [
    "import mymath\n",
    "\n",
    "print(\"--- 도형 계산기 ---\")\n",
    "\n",
    "# 삼각형 넓이 계산\n",
    "base_t = 10\n",
    "height_t = 5\n",
    "triangle_area = mymath.calculate_triangle_area(base_t, height_t)\n",
    "print(f\"밑변 {base_t}, 높이 {height_t}인 삼각형의 넓이: {triangle_area:.2f}\")\n",
    "\n",
    "# 원의 넓이 계산\n",
    "radius_c = 7\n",
    "circle_area = mymath.calculate_circle_area(radius_c)\n",
    "print(f\"반지름 {radius_c}인 원의 넓이: {circle_area:.2f}\")\n",
    "\n",
    "# 직육면체 부피 계산\n",
    "length_rp = 4\n",
    "width_rp = 3\n",
    "height_rp = 6\n",
    "rect_prism_volume = mymath.calculate_rectangular_prism_volume(length_rp, width_rp, height_rp)\n",
    "print(f\"가로 {length_rp}, 세로 {width_rp}, 높이 {height_rp}인 직육면체의 부피: {rect_prism_volume:.2f}\")\n",
    "\n",
    "# 원기둥 부피 계산\n",
    "radius_cy = 3\n",
    "height_cy = 10\n",
    "cylinder_volume = mymath.calculate_cylinder_volume(radius_cy, height_cy)\n",
    "print(f\"반지름 {radius_cy}, 높이 {height_cy}인 원기둥의 부피: {cylinder_volume:.2f}\")\n",
    "\n",
    "print(\"------------------\")"
   ]
  },
  {
   "cell_type": "code",
   "execution_count": null,
   "metadata": {},
   "outputs": [],
   "source": [
    "# mymath.py\n",
    "import math\n",
    "\n",
    "def calculate_triangle_area(base, height):\n",
    "    return 0.5 * base * height\n",
    "\n",
    "def calculate_circle_area(radius):\n",
    "    return math.pi * (radius ** 2)\n",
    "\n",
    "def calculate_rectangular_prism_volume(length, width, height):\n",
    "    return length * width * height\n",
    "\n",
    "def calculate_cylinder_volume(radius, height):\n",
    "    return math.pi * (radius ** 2) * height"
   ]
  },
  {
   "cell_type": "markdown",
   "metadata": {},
   "source": [
    "---"
   ]
  },
  {
   "cell_type": "markdown",
   "metadata": {},
   "source": [
    "[문제 9]\n",
    "\n",
    "animals라는 패키지를 만들고, 이 패키지 내에 mammals, birds라는 두 개의 서브 모듈을 생성하세요. \n",
    "\n",
    "- 각 모듈에는 최소한 한 개 이상의 동물에 관한 클래스를 정의하세요<br>\n",
    "  (예: mammals에는 Dog, birds에는 Eagle)\n",
    "- 이 패키지와 모듈을 사용하여 동물들의 정보를 출력하는 프로그램을 작성\n",
    "\n",
    "폴더 및 파일 구조\n",
    "```\n",
    "animals/(폴더)\n",
    "├── __init__.py\n",
    "├── mammals.py\n",
    "└── birds.py\n",
    "```\n"
   ]
  },
  {
   "cell_type": "code",
   "execution_count": null,
   "metadata": {},
   "outputs": [],
   "source": [
    "# animals/mammals.py\n",
    "\n",
    "class Dog:\n",
    "    def __init__(self, name, breed):\n",
    "        self.name = name\n",
    "        self.breed = breed\n",
    "\n",
    "    def speak(self):\n",
    "        return f\"{self.name} (품종: {self.breed})가 '멍멍!' 하고 짖습니다.\"\n",
    "\n",
    "    def info(self):\n",
    "        return f\"이름: {self.name}, 종류: 포유류, 품종: {self.breed}\"\n",
    "\n",
    "class Cat:\n",
    "    def __init__(self, name, color):\n",
    "        self.name = name\n",
    "        self.color = color\n",
    "\n",
    "    def speak(self):\n",
    "        return f\"{self.name} (털색: {self.color})가 '야옹~' 하고 웁니다.\"\n",
    "\n",
    "    def info(self):\n",
    "        return f\"이름: {self.name}, 종류: 포유류, 털색: {self.color}\""
   ]
  },
  {
   "cell_type": "code",
   "execution_count": null,
   "metadata": {},
   "outputs": [],
   "source": [
    "# animals/birds.py\n",
    "\n",
    "class Eagle:\n",
    "    def __init__(self, name, wingspan_cm):\n",
    "        self.name = name\n",
    "        self.wingspan_cm = wingspan_cm\n",
    "\n",
    "    def fly(self):\n",
    "        return f\"{self.name} (날개폭: {self.wingspan_cm}cm)가 하늘을 멋지게 납니다!\"\n",
    "\n",
    "    def info(self):\n",
    "        return f\"이름: {self.name}, 종류: 조류, 날개폭: {self.wingspan_cm}cm\"\n",
    "\n",
    "class Penguin:\n",
    "    def __init__(self, name, habitat):\n",
    "        self.name = name\n",
    "        self.habitat = habitat\n",
    "\n",
    "    def swim(self):\n",
    "        return f\"{self.name} ({self.habitat} 서식)이 바닷속을 헤엄칩니다.\"\n",
    "\n",
    "    def info(self):\n",
    "        return f\"이름: {self.name}, 종류: 조류, 서식지: {self.habitat}\""
   ]
  },
  {
   "cell_type": "code",
   "execution_count": null,
   "metadata": {},
   "outputs": [],
   "source": [
    "# main_animal_program.py\n",
    "# animals 패키지의 mammals 모듈에서 Dog 클래스를 임포트\n",
    "from animals.mammals import Dog, Cat\n",
    "# animals 패키지의 birds 모듈에서 Eagle 클래스를 임포트\n",
    "from animals.birds import Eagle, Penguin\n",
    "\n",
    "print(\"--- 우리 집 동물들 ---\")\n",
    "\n",
    "# Dog 인스턴스 생성 및 정보 출력\n",
    "my_dog = Dog(\"초코\", \"푸들\")\n",
    "print(my_dog.info())\n",
    "print(my_dog.speak())\n",
    "\n",
    "print(\"\\n--- 친구 집 동물들 ---\")\n",
    "\n",
    "# Cat 인스턴스 생성 및 정보 출력\n",
    "my_cat = Cat(\"나비\", \"삼색\")\n",
    "print(my_cat.info())\n",
    "print(my_cat.speak())\n",
    "\n",
    "print(\"\\n--- 자연 속 동물들 ---\")\n",
    "\n",
    "# Eagle 인스턴스 생성 및 정보 출력\n",
    "golden_eagle = Eagle(\"골디\", 200)\n",
    "print(golden_eagle.info())\n",
    "print(golden_eagle.fly())\n",
    "\n",
    "print(\"\\n--- 남극 동물들 ---\")\n",
    "\n",
    "# Penguin 인스턴스 생성 및 정보 출력\n",
    "king_penguin = Penguin(\"펭펭\", \"남극\")\n",
    "print(king_penguin.info())\n",
    "print(king_penguin.swim())\n",
    "\n",
    "print(\"\\n----------------------\")"
   ]
  },
  {
   "cell_type": "markdown",
   "metadata": {},
   "source": [
    "---"
   ]
  }
 ],
 "metadata": {
  "language_info": {
   "name": "python"
  }
 },
 "nbformat": 4,
 "nbformat_minor": 2
}
